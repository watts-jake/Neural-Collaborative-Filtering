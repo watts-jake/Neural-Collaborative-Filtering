{
  "nbformat": 4,
  "nbformat_minor": 0,
  "metadata": {
    "colab": {
      "name": "ncf.ipynb",
      "provenance": []
    },
    "kernelspec": {
      "name": "python3",
      "display_name": "Python 3"
    },
    "language_info": {
      "name": "python"
    },
    "accelerator": "GPU"
  },
  "cells": [
    {
      "cell_type": "markdown",
      "source": [
        "## Neural Collaborative Filtering\n",
        "\n",
        "## Biweekly Report 7\n",
        "\n",
        "## Jake Watts\n",
        "\n",
        "In this section of the report, I implement a neural collaborative filtering architecture to create user recommendations using MovieLens data. Neural collaborative filtering can express matrix factorization as well as model non-linearities making it an improvement over applying an inner product over users and items for collaborative filtering.\n",
        "\n",
        "MovieLens is a dataset that contains user rankings of movies on a scale from 0.5 to 5. Here I try to train a neural collaborative filtering model to give movie recommendations based on the users' rankings of other movies. To evaluate the model, I experiment with different embedding sizes to see what size leads to the best performance.\n",
        "Sources:\n",
        "\n",
        "https://arxiv.org/abs/1708.05031\n",
        "\n",
        "https://keras.io/examples/structured_data/collaborative_filtering_movielens/"
      ],
      "metadata": {
        "id": "WAAJWEOza6wb"
      }
    },
    {
      "cell_type": "code",
      "execution_count": 1,
      "metadata": {
        "id": "TL-PR5LQaz5Q"
      },
      "outputs": [],
      "source": [
        "import pandas as pd\n",
        "import numpy as np\n",
        "from zipfile import ZipFile\n",
        "import tensorflow as tf\n",
        "from tensorflow import keras\n",
        "from tensorflow.keras import layers\n",
        "from pathlib import Path\n",
        "import matplotlib.pyplot as plt"
      ]
    },
    {
      "cell_type": "markdown",
      "source": [
        "## Data Exploration + Pre-Processing"
      ],
      "metadata": {
        "id": "u3MsqlU1b_rq"
      }
    },
    {
      "cell_type": "markdown",
      "source": [
        "Reading in MovieLens data and creating a pandas dataframe"
      ],
      "metadata": {
        "id": "gm67m7r5fdHI"
      }
    },
    {
      "cell_type": "code",
      "source": [
        "# Download the actual data from http://files.grouplens.org/datasets/movielens/ml-latest-small.zip\"\n",
        "# Use the ratings.csv file\n",
        "movielens_data_file_url = (\n",
        "    \"http://files.grouplens.org/datasets/movielens/ml-latest-small.zip\"\n",
        ")\n",
        "movielens_zipped_file = keras.utils.get_file(\n",
        "    \"ml-latest-small.zip\", movielens_data_file_url, extract=False\n",
        ")\n",
        "keras_datasets_path = Path(movielens_zipped_file).parents[0]\n",
        "movielens_dir = keras_datasets_path / \"ml-latest-small\"\n",
        "\n",
        "# Only extract the data the first time the script is run.\n",
        "if not movielens_dir.exists():\n",
        "    with ZipFile(movielens_zipped_file, \"r\") as zip:\n",
        "        # Extract files\n",
        "        print(\"Extracting all the files now...\")\n",
        "        zip.extractall(path=keras_datasets_path)\n",
        "        print(\"Done!\")\n",
        "\n",
        "ratings_file = movielens_dir / \"ratings.csv\"\n",
        "df = pd.read_csv(ratings_file)"
      ],
      "metadata": {
        "id": "6x82C0dzb1Ti"
      },
      "execution_count": 2,
      "outputs": []
    },
    {
      "cell_type": "markdown",
      "source": [
        "Here we can see the structure of the dataset. `userId` identifies the user giving the rating, `movieId` corresponds with the movie that the user is rating, `rating` is the users rating of the movie and `timestamp` corresponds with when the user rated the movie."
      ],
      "metadata": {
        "id": "PVVh2tqJgcYh"
      }
    },
    {
      "cell_type": "code",
      "source": [
        "df.head(10)"
      ],
      "metadata": {
        "colab": {
          "base_uri": "https://localhost:8080/",
          "height": 363
        },
        "id": "PCrJ9yvSgfq_",
        "outputId": "be801299-1301-4c6c-b88c-cf929f9c9712"
      },
      "execution_count": 3,
      "outputs": [
        {
          "output_type": "execute_result",
          "data": {
            "text/plain": [
              "   userId  movieId  rating  timestamp\n",
              "0       1        1     4.0  964982703\n",
              "1       1        3     4.0  964981247\n",
              "2       1        6     4.0  964982224\n",
              "3       1       47     5.0  964983815\n",
              "4       1       50     5.0  964982931\n",
              "5       1       70     3.0  964982400\n",
              "6       1      101     5.0  964980868\n",
              "7       1      110     4.0  964982176\n",
              "8       1      151     5.0  964984041\n",
              "9       1      157     5.0  964984100"
            ],
            "text/html": [
              "\n",
              "  <div id=\"df-96fb186d-d907-401b-bbd0-d32d1e6a7f59\">\n",
              "    <div class=\"colab-df-container\">\n",
              "      <div>\n",
              "<style scoped>\n",
              "    .dataframe tbody tr th:only-of-type {\n",
              "        vertical-align: middle;\n",
              "    }\n",
              "\n",
              "    .dataframe tbody tr th {\n",
              "        vertical-align: top;\n",
              "    }\n",
              "\n",
              "    .dataframe thead th {\n",
              "        text-align: right;\n",
              "    }\n",
              "</style>\n",
              "<table border=\"1\" class=\"dataframe\">\n",
              "  <thead>\n",
              "    <tr style=\"text-align: right;\">\n",
              "      <th></th>\n",
              "      <th>userId</th>\n",
              "      <th>movieId</th>\n",
              "      <th>rating</th>\n",
              "      <th>timestamp</th>\n",
              "    </tr>\n",
              "  </thead>\n",
              "  <tbody>\n",
              "    <tr>\n",
              "      <th>0</th>\n",
              "      <td>1</td>\n",
              "      <td>1</td>\n",
              "      <td>4.0</td>\n",
              "      <td>964982703</td>\n",
              "    </tr>\n",
              "    <tr>\n",
              "      <th>1</th>\n",
              "      <td>1</td>\n",
              "      <td>3</td>\n",
              "      <td>4.0</td>\n",
              "      <td>964981247</td>\n",
              "    </tr>\n",
              "    <tr>\n",
              "      <th>2</th>\n",
              "      <td>1</td>\n",
              "      <td>6</td>\n",
              "      <td>4.0</td>\n",
              "      <td>964982224</td>\n",
              "    </tr>\n",
              "    <tr>\n",
              "      <th>3</th>\n",
              "      <td>1</td>\n",
              "      <td>47</td>\n",
              "      <td>5.0</td>\n",
              "      <td>964983815</td>\n",
              "    </tr>\n",
              "    <tr>\n",
              "      <th>4</th>\n",
              "      <td>1</td>\n",
              "      <td>50</td>\n",
              "      <td>5.0</td>\n",
              "      <td>964982931</td>\n",
              "    </tr>\n",
              "    <tr>\n",
              "      <th>5</th>\n",
              "      <td>1</td>\n",
              "      <td>70</td>\n",
              "      <td>3.0</td>\n",
              "      <td>964982400</td>\n",
              "    </tr>\n",
              "    <tr>\n",
              "      <th>6</th>\n",
              "      <td>1</td>\n",
              "      <td>101</td>\n",
              "      <td>5.0</td>\n",
              "      <td>964980868</td>\n",
              "    </tr>\n",
              "    <tr>\n",
              "      <th>7</th>\n",
              "      <td>1</td>\n",
              "      <td>110</td>\n",
              "      <td>4.0</td>\n",
              "      <td>964982176</td>\n",
              "    </tr>\n",
              "    <tr>\n",
              "      <th>8</th>\n",
              "      <td>1</td>\n",
              "      <td>151</td>\n",
              "      <td>5.0</td>\n",
              "      <td>964984041</td>\n",
              "    </tr>\n",
              "    <tr>\n",
              "      <th>9</th>\n",
              "      <td>1</td>\n",
              "      <td>157</td>\n",
              "      <td>5.0</td>\n",
              "      <td>964984100</td>\n",
              "    </tr>\n",
              "  </tbody>\n",
              "</table>\n",
              "</div>\n",
              "      <button class=\"colab-df-convert\" onclick=\"convertToInteractive('df-96fb186d-d907-401b-bbd0-d32d1e6a7f59')\"\n",
              "              title=\"Convert this dataframe to an interactive table.\"\n",
              "              style=\"display:none;\">\n",
              "        \n",
              "  <svg xmlns=\"http://www.w3.org/2000/svg\" height=\"24px\"viewBox=\"0 0 24 24\"\n",
              "       width=\"24px\">\n",
              "    <path d=\"M0 0h24v24H0V0z\" fill=\"none\"/>\n",
              "    <path d=\"M18.56 5.44l.94 2.06.94-2.06 2.06-.94-2.06-.94-.94-2.06-.94 2.06-2.06.94zm-11 1L8.5 8.5l.94-2.06 2.06-.94-2.06-.94L8.5 2.5l-.94 2.06-2.06.94zm10 10l.94 2.06.94-2.06 2.06-.94-2.06-.94-.94-2.06-.94 2.06-2.06.94z\"/><path d=\"M17.41 7.96l-1.37-1.37c-.4-.4-.92-.59-1.43-.59-.52 0-1.04.2-1.43.59L10.3 9.45l-7.72 7.72c-.78.78-.78 2.05 0 2.83L4 21.41c.39.39.9.59 1.41.59.51 0 1.02-.2 1.41-.59l7.78-7.78 2.81-2.81c.8-.78.8-2.07 0-2.86zM5.41 20L4 18.59l7.72-7.72 1.47 1.35L5.41 20z\"/>\n",
              "  </svg>\n",
              "      </button>\n",
              "      \n",
              "  <style>\n",
              "    .colab-df-container {\n",
              "      display:flex;\n",
              "      flex-wrap:wrap;\n",
              "      gap: 12px;\n",
              "    }\n",
              "\n",
              "    .colab-df-convert {\n",
              "      background-color: #E8F0FE;\n",
              "      border: none;\n",
              "      border-radius: 50%;\n",
              "      cursor: pointer;\n",
              "      display: none;\n",
              "      fill: #1967D2;\n",
              "      height: 32px;\n",
              "      padding: 0 0 0 0;\n",
              "      width: 32px;\n",
              "    }\n",
              "\n",
              "    .colab-df-convert:hover {\n",
              "      background-color: #E2EBFA;\n",
              "      box-shadow: 0px 1px 2px rgba(60, 64, 67, 0.3), 0px 1px 3px 1px rgba(60, 64, 67, 0.15);\n",
              "      fill: #174EA6;\n",
              "    }\n",
              "\n",
              "    [theme=dark] .colab-df-convert {\n",
              "      background-color: #3B4455;\n",
              "      fill: #D2E3FC;\n",
              "    }\n",
              "\n",
              "    [theme=dark] .colab-df-convert:hover {\n",
              "      background-color: #434B5C;\n",
              "      box-shadow: 0px 1px 3px 1px rgba(0, 0, 0, 0.15);\n",
              "      filter: drop-shadow(0px 1px 2px rgba(0, 0, 0, 0.3));\n",
              "      fill: #FFFFFF;\n",
              "    }\n",
              "  </style>\n",
              "\n",
              "      <script>\n",
              "        const buttonEl =\n",
              "          document.querySelector('#df-96fb186d-d907-401b-bbd0-d32d1e6a7f59 button.colab-df-convert');\n",
              "        buttonEl.style.display =\n",
              "          google.colab.kernel.accessAllowed ? 'block' : 'none';\n",
              "\n",
              "        async function convertToInteractive(key) {\n",
              "          const element = document.querySelector('#df-96fb186d-d907-401b-bbd0-d32d1e6a7f59');\n",
              "          const dataTable =\n",
              "            await google.colab.kernel.invokeFunction('convertToInteractive',\n",
              "                                                     [key], {});\n",
              "          if (!dataTable) return;\n",
              "\n",
              "          const docLinkHtml = 'Like what you see? Visit the ' +\n",
              "            '<a target=\"_blank\" href=https://colab.research.google.com/notebooks/data_table.ipynb>data table notebook</a>'\n",
              "            + ' to learn more about interactive tables.';\n",
              "          element.innerHTML = '';\n",
              "          dataTable['output_type'] = 'display_data';\n",
              "          await google.colab.output.renderOutput(dataTable, element);\n",
              "          const docLink = document.createElement('div');\n",
              "          docLink.innerHTML = docLinkHtml;\n",
              "          element.appendChild(docLink);\n",
              "        }\n",
              "      </script>\n",
              "    </div>\n",
              "  </div>\n",
              "  "
            ]
          },
          "metadata": {},
          "execution_count": 3
        }
      ]
    },
    {
      "cell_type": "markdown",
      "source": [
        "Creating a list of unique users and movies and finding min and max ratings"
      ],
      "metadata": {
        "id": "-WX8z5DdiiVj"
      }
    },
    {
      "cell_type": "code",
      "source": [
        "user_ids = df[\"userId\"].unique().tolist()\n",
        "user2user_encoded = {x: i for i, x in enumerate(user_ids)}\n",
        "userencoded2user = {i: x for i, x in enumerate(user_ids)}\n",
        "movie_ids = df[\"movieId\"].unique().tolist()\n",
        "movie2movie_encoded = {x: i for i, x in enumerate(movie_ids)}\n",
        "movie_encoded2movie = {i: x for i, x in enumerate(movie_ids)}\n",
        "df[\"user\"] = df[\"userId\"].map(user2user_encoded)\n",
        "df[\"movie\"] = df[\"movieId\"].map(movie2movie_encoded)\n",
        "\n",
        "num_users = len(user2user_encoded)\n",
        "num_movies = len(movie_encoded2movie)\n",
        "df[\"rating\"] = df[\"rating\"].values.astype(np.float32)\n",
        "# min and max ratings will be used to normalize the ratings later\n",
        "min_rating = min(df[\"rating\"])\n",
        "max_rating = max(df[\"rating\"])"
      ],
      "metadata": {
        "id": "85i8oGGeb-fl"
      },
      "execution_count": 4,
      "outputs": []
    },
    {
      "cell_type": "markdown",
      "source": [
        "The data contains 100,836 total observations with 610 unique users and 9724 unique movies for an average of 165 ratings per user. The ratings range from 0.5 to 5 and has an average of 3.5."
      ],
      "metadata": {
        "id": "c2g1fyO4lYaS"
      }
    },
    {
      "cell_type": "code",
      "source": [
        "avg_rating = round(np.mean(df['rating']), 2)\n",
        "observations = len(df)\n",
        "\n",
        "print(\n",
        "    \"Total observations: {}, Number of users: {}, Number of Movies: {}, Min rating: {}, Max rating: {}, Average Rating {}\".format(\n",
        "        observations, num_users, num_movies, min_rating, max_rating, avg_rating\n",
        "    ))"
      ],
      "metadata": {
        "colab": {
          "base_uri": "https://localhost:8080/"
        },
        "id": "OUnQawtajnEa",
        "outputId": "a4d55b6a-4fd6-48f3-a2a4-1ff90a10fcc8"
      },
      "execution_count": 5,
      "outputs": [
        {
          "output_type": "stream",
          "name": "stdout",
          "text": [
            "Total observations: 100836, Number of users: 610, Number of Movies: 9724, Min rating: 0.5, Max rating: 5.0, Average Rating 3.5\n"
          ]
        }
      ]
    },
    {
      "cell_type": "markdown",
      "source": [
        "Below we can see the distribution of ratings. Although the average rating is 3.5 the data appears to be higher at whole numbers compared to the neighboring numbers with half points. The most common rating is 4 and the least common is 0.5. The data is left-skewed."
      ],
      "metadata": {
        "id": "MASpqZwKp-yK"
      }
    },
    {
      "cell_type": "code",
      "source": [
        "plt.hist(df['rating'])\n",
        "plt.title('Rating Distribution')\n",
        "plt.show()"
      ],
      "metadata": {
        "colab": {
          "base_uri": "https://localhost:8080/",
          "height": 281
        },
        "id": "OUCGqOlIpwHr",
        "outputId": "55f0999a-e52e-46ef-ba7e-a8540c36c65e"
      },
      "execution_count": 6,
      "outputs": [
        {
          "output_type": "display_data",
          "data": {
            "text/plain": [
              "<Figure size 432x288 with 1 Axes>"
            ],
            "image/png": "[encoded data removed]"
          },
          "metadata": {
            "needs_background": "light"
          }
        }
      ]
    },
    {
      "cell_type": "markdown",
      "source": [
        "Looking at the average rating grouped by users, we see that the data appears to follow a more normal distribution with a peak at 3.5. "
      ],
      "metadata": {
        "id": "CYpmiYC3sCWJ"
      }
    },
    {
      "cell_type": "code",
      "source": [
        "df2 = df[['user', 'rating']].groupby(by = \"user\").mean()\n",
        "df2.head()\n",
        "\n",
        "plt.hist(df2['rating'])\n",
        "plt.title('Average Rating per User Distribution')\n",
        "plt.show()"
      ],
      "metadata": {
        "colab": {
          "base_uri": "https://localhost:8080/",
          "height": 281
        },
        "id": "jCaJOVFtq_IU",
        "outputId": "fb769685-3610-4467-cedb-62a31525b077"
      },
      "execution_count": 7,
      "outputs": [
        {
          "output_type": "display_data",
          "data": {
            "text/plain": [
              "<Figure size 432x288 with 1 Axes>"
            ],
            "image/png": "[encoded data removed]"
          },
          "metadata": {
            "needs_background": "light"
          }
        }
      ]
    },
    {
      "cell_type": "markdown",
      "source": [
        "Normalizing ratings and creating training, validation, and testing datasets with `user` and `movie` as `x` and `rating` as `y`"
      ],
      "metadata": {
        "id": "Ees9KO_wnP4w"
      }
    },
    {
      "cell_type": "code",
      "source": [
        "df = df.sample(frac=1, random_state=42)\n",
        "x = df[[\"user\", \"movie\"]].values\n",
        "# Normalize the targets between 0 and 1. Makes it easy to train.\n",
        "y = df[\"rating\"].apply(lambda x: (x - min_rating) / (max_rating - min_rating)).values\n",
        "# Assuming training on 80% of the data and validating on 10%.\n",
        "train_indices = int(0.8 * df.shape[0])\n",
        "test_indices = int(0.9 * df.shape[0])\n",
        "x_train, x_val, x_test, y_train, y_val, y_test = (\n",
        "    x[:train_indices],\n",
        "    x[train_indices:test_indices],\n",
        "    x[test_indices:],\n",
        "    y[:train_indices],\n",
        "    y[train_indices:test_indices],\n",
        "    y[test_indices:]\n",
        ")"
      ],
      "metadata": {
        "id": "kV3yZkjacJLL"
      },
      "execution_count": 8,
      "outputs": []
    },
    {
      "cell_type": "markdown",
      "source": [
        "## Model"
      ],
      "metadata": {
        "id": "3mijdT3YcLyL"
      }
    },
    {
      "cell_type": "markdown",
      "source": [
        "Here I compile the model. The embedding size for both the users and the movies is set to 50. A match score is calculated between the user and the movie using a dot product. Then user and movie bias is added to the dot product and the sigmoid activation function scales the output from 0 to 1.\n",
        "\n",
        "The model uses a binary cross-entropy loss with an Adam optimizer with a learning rate of 0.001."
      ],
      "metadata": {
        "id": "iJy4KiZmB5uE"
      }
    },
    {
      "cell_type": "code",
      "source": [
        "EMBEDDING_SIZE = 50\n",
        "\n",
        "\n",
        "class RecommenderNet(keras.Model):\n",
        "    def __init__(self, num_users, num_movies, embedding_size, **kwargs):\n",
        "        super(RecommenderNet, self).__init__(**kwargs)\n",
        "        self.num_users = num_users\n",
        "        self.num_movies = num_movies\n",
        "        self.embedding_size = embedding_size\n",
        "        self.user_embedding = layers.Embedding(\n",
        "            num_users,\n",
        "            embedding_size,\n",
        "            embeddings_initializer=\"he_normal\",\n",
        "            embeddings_regularizer=keras.regularizers.l2(1e-6),\n",
        "        )\n",
        "        self.user_bias = layers.Embedding(num_users, 1)\n",
        "        self.movie_embedding = layers.Embedding(\n",
        "            num_movies,\n",
        "            embedding_size,\n",
        "            embeddings_initializer=\"he_normal\",\n",
        "            embeddings_regularizer=keras.regularizers.l2(1e-6),\n",
        "        )\n",
        "        self.movie_bias = layers.Embedding(num_movies, 1)\n",
        "\n",
        "    def call(self, inputs):\n",
        "        user_vector = self.user_embedding(inputs[:, 0])\n",
        "        user_bias = self.user_bias(inputs[:, 0])\n",
        "        movie_vector = self.movie_embedding(inputs[:, 1])\n",
        "        movie_bias = self.movie_bias(inputs[:, 1])\n",
        "        dot_user_movie = tf.tensordot(user_vector, movie_vector, 2)\n",
        "        # Add all the components (including bias)\n",
        "        x = dot_user_movie + user_bias + movie_bias\n",
        "        # The sigmoid activation forces the rating to between 0 and 1\n",
        "        return tf.nn.sigmoid(x)\n",
        "\n",
        "\n",
        "model = RecommenderNet(num_users, num_movies, EMBEDDING_SIZE)\n",
        "model.compile(\n",
        "    loss=tf.keras.losses.BinaryCrossentropy(), optimizer=keras.optimizers.Adam(lr=0.001)\n",
        ")"
      ],
      "metadata": {
        "colab": {
          "base_uri": "https://localhost:8080/"
        },
        "id": "3qcPAEo_cLbL",
        "outputId": "a1f1c3bb-9b35-443d-86ba-a5936bed3557"
      },
      "execution_count": 9,
      "outputs": [
        {
          "output_type": "stream",
          "name": "stderr",
          "text": [
            "/usr/local/lib/python3.7/dist-packages/keras/optimizer_v2/adam.py:105: UserWarning: The `lr` argument is deprecated, use `learning_rate` instead.\n",
            "  super(Adam, self).__init__(name, **kwargs)\n"
          ]
        }
      ]
    },
    {
      "cell_type": "markdown",
      "source": [
        "## Training"
      ],
      "metadata": {
        "id": "YsCduSrEcZrT"
      }
    },
    {
      "cell_type": "markdown",
      "source": [
        "Training the model for 12 epochs"
      ],
      "metadata": {
        "id": "U4_H8jORDGBB"
      }
    },
    {
      "cell_type": "code",
      "source": [
        "history = model.fit(\n",
        "    x=x_train,\n",
        "    y=y_train,\n",
        "    batch_size=64,\n",
        "    epochs=12,\n",
        "    verbose=1,\n",
        "    validation_data=(x_val, y_val),\n",
        ")"
      ],
      "metadata": {
        "colab": {
          "base_uri": "https://localhost:8080/"
        },
        "id": "dQEpuhNEcRSe",
        "outputId": "b191a738-1be2-45a2-f0f9-9a00f2aedaa9"
      },
      "execution_count": 10,
      "outputs": [
        {
          "output_type": "stream",
          "name": "stdout",
          "text": [
            "Epoch 1/12\n",
            "1261/1261 [==============================] - 9s 6ms/step - loss: 0.6377 - val_loss: 0.6199\n",
            "Epoch 2/12\n",
            "1261/1261 [==============================] - 5s 4ms/step - loss: 0.6148 - val_loss: 0.6170\n",
            "Epoch 3/12\n",
            "1261/1261 [==============================] - 5s 4ms/step - loss: 0.6090 - val_loss: 0.6138\n",
            "Epoch 4/12\n",
            "1261/1261 [==============================] - 5s 4ms/step - loss: 0.6076 - val_loss: 0.6108\n",
            "Epoch 5/12\n",
            "1261/1261 [==============================] - 5s 4ms/step - loss: 0.6067 - val_loss: 0.6103\n",
            "Epoch 6/12\n",
            "1261/1261 [==============================] - 5s 4ms/step - loss: 0.6062 - val_loss: 0.6082\n",
            "Epoch 7/12\n",
            "1261/1261 [==============================] - 5s 4ms/step - loss: 0.6062 - val_loss: 0.6086\n",
            "Epoch 8/12\n",
            "1261/1261 [==============================] - 5s 4ms/step - loss: 0.6054 - val_loss: 0.6105\n",
            "Epoch 9/12\n",
            "1261/1261 [==============================] - 5s 4ms/step - loss: 0.6045 - val_loss: 0.6109\n",
            "Epoch 10/12\n",
            "1261/1261 [==============================] - 5s 4ms/step - loss: 0.6047 - val_loss: 0.6093\n",
            "Epoch 11/12\n",
            "1261/1261 [==============================] - 5s 4ms/step - loss: 0.6043 - val_loss: 0.6080\n",
            "Epoch 12/12\n",
            "1261/1261 [==============================] - 5s 4ms/step - loss: 0.6039 - val_loss: 0.6092\n"
          ]
        }
      ]
    },
    {
      "cell_type": "markdown",
      "source": [
        "After training for 12 epochs, we can see that the training and validation loss both decrease quickly for the first 5 epochs. However, the validation dataset appears to begin increasing while the training loss is still decreasing in the later epochs."
      ],
      "metadata": {
        "id": "q4CugjrwE4nB"
      }
    },
    {
      "cell_type": "code",
      "source": [
        "plt.plot(history.history[\"loss\"])\n",
        "plt.plot(history.history[\"val_loss\"])\n",
        "plt.title(\"model loss\")\n",
        "plt.ylabel(\"loss\")\n",
        "plt.xlabel(\"epoch\")\n",
        "plt.legend([\"train\", \"validation\"], loc=\"upper right\")\n",
        "plt.show()"
      ],
      "metadata": {
        "colab": {
          "base_uri": "https://localhost:8080/",
          "height": 295
        },
        "id": "HhaE70XkcT1L",
        "outputId": "48f25a6b-45a2-4ae5-f895-df0dfebc0273"
      },
      "execution_count": 13,
      "outputs": [
        {
          "output_type": "display_data",
          "data": {
            "text/plain": [
              "<Figure size 432x288 with 1 Axes>"
            ],
            "image/png": "[encoded data removed]"
          },
          "metadata": {
            "needs_background": "light"
          }
        }
      ]
    },
    {
      "cell_type": "markdown",
      "source": [
        "## User Recommentations"
      ],
      "metadata": {
        "id": "-WWyAVDjchCw"
      }
    },
    {
      "cell_type": "markdown",
      "source": [
        "After training the model, we can now look at recommendations for the users! The recommendations for the user below are mostly crime/thriller movies. The user does have a crime/thriller movie in their top-rated movies so that makes sense. However, it is hard to evaluate how interested the user would be in these movies unless we got feedback from the users about the recommendations."
      ],
      "metadata": {
        "id": "e0Fni7qoFicg"
      }
    },
    {
      "cell_type": "code",
      "source": [
        "movie_df = pd.read_csv(movielens_dir / \"movies.csv\")\n",
        "\n",
        "# Let us get a user and see the top recommendations.\n",
        "user_id = df.userId.sample(1).iloc[0]\n",
        "movies_watched_by_user = df[df.userId == user_id]\n",
        "movies_not_watched = movie_df[\n",
        "    ~movie_df[\"movieId\"].isin(movies_watched_by_user.movieId.values)\n",
        "][\"movieId\"]\n",
        "movies_not_watched = list(\n",
        "    set(movies_not_watched).intersection(set(movie2movie_encoded.keys()))\n",
        ")\n",
        "movies_not_watched = [[movie2movie_encoded.get(x)] for x in movies_not_watched]\n",
        "user_encoder = user2user_encoded.get(user_id)\n",
        "user_movie_array = np.hstack(\n",
        "    ([[user_encoder]] * len(movies_not_watched), movies_not_watched)\n",
        ")\n",
        "ratings = model.predict(user_movie_array).flatten()\n",
        "top_ratings_indices = ratings.argsort()[-10:][::-1]\n",
        "recommended_movie_ids = [\n",
        "    movie_encoded2movie.get(movies_not_watched[x][0]) for x in top_ratings_indices\n",
        "]\n",
        "\n",
        "print(\"Showing recommendations for user: {}\".format(user_id))\n",
        "print(\"====\" * 9)\n",
        "print(\"Movies with high ratings from user\")\n",
        "print(\"----\" * 8)\n",
        "top_movies_user = (\n",
        "    movies_watched_by_user.sort_values(by=\"rating\", ascending=False)\n",
        "    .head(5)\n",
        "    .movieId.values\n",
        ")\n",
        "movie_df_rows = movie_df[movie_df[\"movieId\"].isin(top_movies_user)]\n",
        "for row in movie_df_rows.itertuples():\n",
        "    print(row.title, \":\", row.genres)\n",
        "\n",
        "print(\"----\" * 8)\n",
        "print(\"Top 10 movie recommendations\")\n",
        "print(\"----\" * 8)\n",
        "recommended_movies = movie_df[movie_df[\"movieId\"].isin(recommended_movie_ids)]\n",
        "for row in recommended_movies.itertuples():\n",
        "    print(row.title, \":\", row.genres)"
      ],
      "metadata": {
        "colab": {
          "base_uri": "https://localhost:8080/"
        },
        "id": "6KrJC2uHcrJz",
        "outputId": "c80808ce-ea40-4c0c-d665-b7b209b0ae9e"
      },
      "execution_count": 14,
      "outputs": [
        {
          "output_type": "stream",
          "name": "stdout",
          "text": [
            "Showing recommendations for user: 165\n",
            "====================================\n",
            "Movies with high ratings from user\n",
            "--------------------------------\n",
            "Princess Bride, The (1987) : Action|Adventure|Comedy|Fantasy|Romance\n",
            "Raiders of the Lost Ark (Indiana Jones and the Raiders of the Lost Ark) (1981) : Action|Adventure\n",
            "Indiana Jones and the Last Crusade (1989) : Action|Adventure\n",
            "Ocean's Eleven (2001) : Crime|Thriller\n",
            "Lord of the Rings: The Two Towers, The (2002) : Adventure|Fantasy\n",
            "--------------------------------\n",
            "Top 10 movie recommendations\n",
            "--------------------------------\n",
            "Bridge on the River Kwai, The (1957) : Adventure|Drama|War\n",
            "Chinatown (1974) : Crime|Film-Noir|Mystery|Thriller\n",
            "Shining, The (1980) : Horror\n",
            "Evil Dead II (Dead by Dawn) (1987) : Action|Comedy|Fantasy|Horror\n",
            "Cool Hand Luke (1967) : Drama\n",
            "High Noon (1952) : Drama|Western\n",
            "On the Waterfront (1954) : Crime|Drama\n",
            "Fight Club (1999) : Action|Crime|Drama|Thriller\n",
            "Double Indemnity (1944) : Crime|Drama|Film-Noir\n",
            "Snatch (2000) : Comedy|Crime|Thriller\n"
          ]
        }
      ]
    },
    {
      "cell_type": "markdown",
      "source": [
        "## Altering the Embedding Size"
      ],
      "metadata": {
        "id": "TF6PCwRVIkfX"
      }
    },
    {
      "cell_type": "markdown",
      "source": [
        "Here I wanted to experiment with changing the embedding size to see how it affects the model. The initial embedding size was 50 and here I train a model using an embedding size of 35. I chose to decrease the embedding size as the previous model showed signs of overfitting so I wanted to decrease the complexity of the embedding vector to see if it would improve the recommendations."
      ],
      "metadata": {
        "id": "9v-zGBP8KC3F"
      }
    },
    {
      "cell_type": "code",
      "source": [
        "EMBEDDING_SIZE = 35\n",
        "\n",
        "\n",
        "class RecommenderNet(keras.Model):\n",
        "    def __init__(self, num_users, num_movies, embedding_size, **kwargs):\n",
        "        super(RecommenderNet, self).__init__(**kwargs)\n",
        "        self.num_users = num_users\n",
        "        self.num_movies = num_movies\n",
        "        self.embedding_size = embedding_size\n",
        "        self.user_embedding = layers.Embedding(\n",
        "            num_users,\n",
        "            embedding_size,\n",
        "            embeddings_initializer=\"he_normal\",\n",
        "            embeddings_regularizer=keras.regularizers.l2(1e-6),\n",
        "        )\n",
        "        self.user_bias = layers.Embedding(num_users, 1)\n",
        "        self.movie_embedding = layers.Embedding(\n",
        "            num_movies,\n",
        "            embedding_size,\n",
        "            embeddings_initializer=\"he_normal\",\n",
        "            embeddings_regularizer=keras.regularizers.l2(1e-6),\n",
        "        )\n",
        "        self.movie_bias = layers.Embedding(num_movies, 1)\n",
        "\n",
        "    def call(self, inputs):\n",
        "        user_vector = self.user_embedding(inputs[:, 0])\n",
        "        user_bias = self.user_bias(inputs[:, 0])\n",
        "        movie_vector = self.movie_embedding(inputs[:, 1])\n",
        "        movie_bias = self.movie_bias(inputs[:, 1])\n",
        "        dot_user_movie = tf.tensordot(user_vector, movie_vector, 2)\n",
        "        # Add all the components (including bias)\n",
        "        x = dot_user_movie + user_bias + movie_bias\n",
        "        # The sigmoid activation forces the rating to between 0 and 1\n",
        "        return tf.nn.sigmoid(x)\n",
        "\n",
        "\n",
        "model = RecommenderNet(num_users, num_movies, EMBEDDING_SIZE)\n",
        "model.compile(\n",
        "    loss=tf.keras.losses.BinaryCrossentropy(), optimizer=keras.optimizers.Adam(lr=0.001)\n",
        ")"
      ],
      "metadata": {
        "colab": {
          "base_uri": "https://localhost:8080/"
        },
        "id": "tcsGWl40Gz7S",
        "outputId": "180e2d19-a218-40af-dce6-3d9cb80440fd"
      },
      "execution_count": 25,
      "outputs": [
        {
          "output_type": "stream",
          "name": "stderr",
          "text": [
            "/usr/local/lib/python3.7/dist-packages/keras/optimizer_v2/adam.py:105: UserWarning: The `lr` argument is deprecated, use `learning_rate` instead.\n",
            "  super(Adam, self).__init__(name, **kwargs)\n"
          ]
        }
      ]
    },
    {
      "cell_type": "markdown",
      "source": [
        "After 12 epochs of training, the model has a slightly lower final loss than the original model (.6058 vs .6092.). However, it is difficult to say if this difference is significant. The validation loss shows a similar pattern to the original model when the loss increases after 6 epochs. Although this time it is not as large of an increase."
      ],
      "metadata": {
        "id": "sbL4TZ-tKb9L"
      }
    },
    {
      "cell_type": "code",
      "source": [
        "history2 = model.fit(\n",
        "    x=x_train,\n",
        "    y=y_train,\n",
        "    batch_size=64,\n",
        "    epochs=12,\n",
        "    verbose=1,\n",
        "    validation_data=(x_val, y_val),\n",
        ")"
      ],
      "metadata": {
        "colab": {
          "base_uri": "https://localhost:8080/"
        },
        "id": "Z2ANNSDsI4Lx",
        "outputId": "988a7220-dd73-4b65-c44c-071dc3fed0f4"
      },
      "execution_count": 26,
      "outputs": [
        {
          "output_type": "stream",
          "name": "stdout",
          "text": [
            "Epoch 1/12\n",
            "1261/1261 [==============================] - 6s 4ms/step - loss: 0.6404 - val_loss: 0.6196\n",
            "Epoch 2/12\n",
            "1261/1261 [==============================] - 5s 4ms/step - loss: 0.6136 - val_loss: 0.6177\n",
            "Epoch 3/12\n",
            "1261/1261 [==============================] - 5s 4ms/step - loss: 0.6069 - val_loss: 0.6104\n",
            "Epoch 4/12\n",
            "1261/1261 [==============================] - 5s 4ms/step - loss: 0.6038 - val_loss: 0.6077\n",
            "Epoch 5/12\n",
            "1261/1261 [==============================] - 5s 4ms/step - loss: 0.6019 - val_loss: 0.6065\n",
            "Epoch 6/12\n",
            "1261/1261 [==============================] - 5s 4ms/step - loss: 0.6006 - val_loss: 0.6064\n",
            "Epoch 7/12\n",
            "1261/1261 [==============================] - 5s 4ms/step - loss: 0.6001 - val_loss: 0.6068\n",
            "Epoch 8/12\n",
            "1261/1261 [==============================] - 5s 4ms/step - loss: 0.5986 - val_loss: 0.6051\n",
            "Epoch 9/12\n",
            "1261/1261 [==============================] - 5s 4ms/step - loss: 0.5982 - val_loss: 0.6064\n",
            "Epoch 10/12\n",
            "1261/1261 [==============================] - 6s 5ms/step - loss: 0.5979 - val_loss: 0.6060\n",
            "Epoch 11/12\n",
            "1261/1261 [==============================] - 5s 4ms/step - loss: 0.5979 - val_loss: 0.6054\n",
            "Epoch 12/12\n",
            "1261/1261 [==============================] - 5s 4ms/step - loss: 0.5961 - val_loss: 0.6058\n"
          ]
        }
      ]
    },
    {
      "cell_type": "code",
      "source": [
        "plt.plot(history2.history[\"loss\"])\n",
        "plt.plot(history2.history[\"val_loss\"])\n",
        "plt.title(\"model loss\")\n",
        "plt.ylabel(\"loss\")\n",
        "plt.xlabel(\"epoch\")\n",
        "plt.legend([\"train\", \"validation\"], loc=\"upper right\")\n",
        "plt.show()"
      ],
      "metadata": {
        "colab": {
          "base_uri": "https://localhost:8080/",
          "height": 295
        },
        "id": "UL-ZFcVDJfV2",
        "outputId": "84a120b0-cb07-4855-c81e-4324de746773"
      },
      "execution_count": 24,
      "outputs": [
        {
          "output_type": "display_data",
          "data": {
            "text/plain": [
              "<Figure size 432x288 with 1 Axes>"
            ],
            "image/png": "[encoded data removed]"
          },
          "metadata": {
            "needs_background": "light"
          }
        }
      ]
    },
    {
      "cell_type": "markdown",
      "source": [
        "To try and get a sense of how different the new model is, I had the model give 10 recommendations to the same user as the previous model did. 5 of the recommendations were the same while five were different. This indicates that the model is moderately different than the previous model. It also looks like there is a little bit more variety in the genres recommended. I would think that is a good sign, however, it depends on what the user is looking for."
      ],
      "metadata": {
        "id": "P42KbWL0MLu_"
      }
    },
    {
      "cell_type": "code",
      "source": [
        "movie_df = pd.read_csv(movielens_dir / \"movies.csv\")\n",
        "\n",
        "# Let us get a user and see the top recommendations.\n",
        "user_id = 165\n",
        "movies_watched_by_user = df[df.userId == user_id]\n",
        "movies_not_watched = movie_df[\n",
        "    ~movie_df[\"movieId\"].isin(movies_watched_by_user.movieId.values)\n",
        "][\"movieId\"]\n",
        "movies_not_watched = list(\n",
        "    set(movies_not_watched).intersection(set(movie2movie_encoded.keys()))\n",
        ")\n",
        "movies_not_watched = [[movie2movie_encoded.get(x)] for x in movies_not_watched]\n",
        "user_encoder = user2user_encoded.get(user_id)\n",
        "user_movie_array = np.hstack(\n",
        "    ([[user_encoder]] * len(movies_not_watched), movies_not_watched)\n",
        ")\n",
        "ratings = model.predict(user_movie_array).flatten()\n",
        "top_ratings_indices = ratings.argsort()[-10:][::-1]\n",
        "recommended_movie_ids = [\n",
        "    movie_encoded2movie.get(movies_not_watched[x][0]) for x in top_ratings_indices\n",
        "]\n",
        "\n",
        "print(\"Showing recommendations for user: {}\".format(user_id))\n",
        "print(\"====\" * 9)\n",
        "print(\"Movies with high ratings from user\")\n",
        "print(\"----\" * 8)\n",
        "top_movies_user = (\n",
        "    movies_watched_by_user.sort_values(by=\"rating\", ascending=False)\n",
        "    .head(5)\n",
        "    .movieId.values\n",
        ")\n",
        "movie_df_rows = movie_df[movie_df[\"movieId\"].isin(top_movies_user)]\n",
        "for row in movie_df_rows.itertuples():\n",
        "    print(row.title, \":\", row.genres)\n",
        "\n",
        "print(\"----\" * 8)\n",
        "print(\"Top 10 movie recommendations\")\n",
        "print(\"----\" * 8)\n",
        "recommended_movies = movie_df[movie_df[\"movieId\"].isin(recommended_movie_ids)]\n",
        "for row in recommended_movies.itertuples():\n",
        "    print(row.title, \":\", row.genres)"
      ],
      "metadata": {
        "colab": {
          "base_uri": "https://localhost:8080/"
        },
        "id": "PwJU78mrLV9U",
        "outputId": "afe0c8a2-8ce5-4139-98ee-eb3af53cf286"
      },
      "execution_count": 27,
      "outputs": [
        {
          "output_type": "stream",
          "name": "stdout",
          "text": [
            "Showing recommendations for user: 165\n",
            "====================================\n",
            "Movies with high ratings from user\n",
            "--------------------------------\n",
            "Princess Bride, The (1987) : Action|Adventure|Comedy|Fantasy|Romance\n",
            "Raiders of the Lost Ark (Indiana Jones and the Raiders of the Lost Ark) (1981) : Action|Adventure\n",
            "Indiana Jones and the Last Crusade (1989) : Action|Adventure\n",
            "Ocean's Eleven (2001) : Crime|Thriller\n",
            "Lord of the Rings: The Two Towers, The (2002) : Adventure|Fantasy\n",
            "--------------------------------\n",
            "Top 10 movie recommendations\n",
            "--------------------------------\n",
            "Philadelphia Story, The (1940) : Comedy|Drama|Romance\n",
            "Rear Window (1954) : Mystery|Thriller\n",
            "Secrets & Lies (1996) : Drama\n",
            "Bridge on the River Kwai, The (1957) : Adventure|Drama|War\n",
            "Chinatown (1974) : Crime|Film-Noir|Mystery|Thriller\n",
            "Shining, The (1980) : Horror\n",
            "Evil Dead II (Dead by Dawn) (1987) : Action|Comedy|Fantasy|Horror\n",
            "Cool Hand Luke (1967) : Drama\n",
            "On the Waterfront (1954) : Crime|Drama\n",
            "American History X (1998) : Crime|Drama\n"
          ]
        }
      ]
    },
    {
      "cell_type": "markdown",
      "source": [
        "Finally, I want to create a model with an increased embedding size (65 instead of 50) to see how it affects the validation loss. I guess that it will be worse because decreasing the embedding size was helpful. However, I want to confirm if this is true since deep learning is not always intuitive."
      ],
      "metadata": {
        "id": "Qx_46m1IOZyP"
      }
    },
    {
      "cell_type": "code",
      "source": [
        "EMBEDDING_SIZE = 65\n",
        "\n",
        "\n",
        "class RecommenderNet(keras.Model):\n",
        "    def __init__(self, num_users, num_movies, embedding_size, **kwargs):\n",
        "        super(RecommenderNet, self).__init__(**kwargs)\n",
        "        self.num_users = num_users\n",
        "        self.num_movies = num_movies\n",
        "        self.embedding_size = embedding_size\n",
        "        self.user_embedding = layers.Embedding(\n",
        "            num_users,\n",
        "            embedding_size,\n",
        "            embeddings_initializer=\"he_normal\",\n",
        "            embeddings_regularizer=keras.regularizers.l2(1e-6),\n",
        "        )\n",
        "        self.user_bias = layers.Embedding(num_users, 1)\n",
        "        self.movie_embedding = layers.Embedding(\n",
        "            num_movies,\n",
        "            embedding_size,\n",
        "            embeddings_initializer=\"he_normal\",\n",
        "            embeddings_regularizer=keras.regularizers.l2(1e-6),\n",
        "        )\n",
        "        self.movie_bias = layers.Embedding(num_movies, 1)\n",
        "\n",
        "    def call(self, inputs):\n",
        "        user_vector = self.user_embedding(inputs[:, 0])\n",
        "        user_bias = self.user_bias(inputs[:, 0])\n",
        "        movie_vector = self.movie_embedding(inputs[:, 1])\n",
        "        movie_bias = self.movie_bias(inputs[:, 1])\n",
        "        dot_user_movie = tf.tensordot(user_vector, movie_vector, 2)\n",
        "        # Add all the components (including bias)\n",
        "        x = dot_user_movie + user_bias + movie_bias\n",
        "        # The sigmoid activation forces the rating to between 0 and 1\n",
        "        return tf.nn.sigmoid(x)\n",
        "\n",
        "\n",
        "model = RecommenderNet(num_users, num_movies, EMBEDDING_SIZE)\n",
        "model.compile(\n",
        "    loss=tf.keras.losses.BinaryCrossentropy(), optimizer=keras.optimizers.Adam(lr=0.001)\n",
        ")"
      ],
      "metadata": {
        "colab": {
          "base_uri": "https://localhost:8080/"
        },
        "id": "tboQgexUN3OU",
        "outputId": "7c73759d-d72b-4c4e-afde-f62df826e0d8"
      },
      "execution_count": 28,
      "outputs": [
        {
          "output_type": "stream",
          "name": "stderr",
          "text": [
            "/usr/local/lib/python3.7/dist-packages/keras/optimizer_v2/adam.py:105: UserWarning: The `lr` argument is deprecated, use `learning_rate` instead.\n",
            "  super(Adam, self).__init__(name, **kwargs)\n"
          ]
        }
      ]
    },
    {
      "cell_type": "code",
      "source": [
        "history2 = model.fit(\n",
        "    x=x_train,\n",
        "    y=y_train,\n",
        "    batch_size=64,\n",
        "    epochs=12,\n",
        "    verbose=1,\n",
        "    validation_data=(x_val, y_val),\n",
        ")"
      ],
      "metadata": {
        "colab": {
          "base_uri": "https://localhost:8080/"
        },
        "id": "WyT2FbR9ONMb",
        "outputId": "1a2de3b0-85a3-4eff-dcab-d91ce45f3064"
      },
      "execution_count": 29,
      "outputs": [
        {
          "output_type": "stream",
          "name": "stdout",
          "text": [
            "Epoch 1/12\n",
            "1261/1261 [==============================] - 6s 4ms/step - loss: 0.6383 - val_loss: 0.6202\n",
            "Epoch 2/12\n",
            "1261/1261 [==============================] - 5s 4ms/step - loss: 0.6158 - val_loss: 0.6244\n",
            "Epoch 3/12\n",
            "1261/1261 [==============================] - 5s 4ms/step - loss: 0.6114 - val_loss: 0.6174\n",
            "Epoch 4/12\n",
            "1261/1261 [==============================] - 5s 4ms/step - loss: 0.6117 - val_loss: 0.6163\n",
            "Epoch 5/12\n",
            "1261/1261 [==============================] - 5s 4ms/step - loss: 0.6131 - val_loss: 0.6150\n",
            "Epoch 6/12\n",
            "1261/1261 [==============================] - 5s 4ms/step - loss: 0.6146 - val_loss: 0.6146\n",
            "Epoch 7/12\n",
            "1261/1261 [==============================] - 5s 4ms/step - loss: 0.6128 - val_loss: 0.6178\n",
            "Epoch 8/12\n",
            "1261/1261 [==============================] - 5s 4ms/step - loss: 0.6145 - val_loss: 0.6151\n",
            "Epoch 9/12\n",
            "1261/1261 [==============================] - 5s 4ms/step - loss: 0.6154 - val_loss: 0.6176\n",
            "Epoch 10/12\n",
            "1261/1261 [==============================] - 7s 6ms/step - loss: 0.6128 - val_loss: 0.6166\n",
            "Epoch 11/12\n",
            "1261/1261 [==============================] - 6s 5ms/step - loss: 0.6119 - val_loss: 0.6159\n",
            "Epoch 12/12\n",
            "1261/1261 [==============================] - 5s 4ms/step - loss: 0.6130 - val_loss: 0.6196\n"
          ]
        }
      ]
    },
    {
      "cell_type": "markdown",
      "source": [
        "After training for 12 epochs on the model with an increased embedding size, it appears that this model has a worse loss score than the previous models. Both the training and validations losses appear to increase in later epochs as well. This supports my hypothesis that having a large embedding size can lead to overfitting."
      ],
      "metadata": {
        "id": "5dTx3tJSPG7u"
      }
    },
    {
      "cell_type": "code",
      "source": [
        "plt.plot(history2.history[\"loss\"])\n",
        "plt.plot(history2.history[\"val_loss\"])\n",
        "plt.title(\"model loss\")\n",
        "plt.ylabel(\"loss\")\n",
        "plt.xlabel(\"epoch\")\n",
        "plt.legend([\"train\", \"validation\"], loc=\"upper right\")\n",
        "plt.show()"
      ],
      "metadata": {
        "colab": {
          "base_uri": "https://localhost:8080/",
          "height": 295
        },
        "id": "Hg9m3VDUOxWk",
        "outputId": "a6f7a448-9aaa-42ce-e29e-c2500c329c81"
      },
      "execution_count": 30,
      "outputs": [
        {
          "output_type": "display_data",
          "data": {
            "text/plain": [
              "<Figure size 432x288 with 1 Axes>"
            ],
            "image/png": "[encoded data removed]"
          },
          "metadata": {
            "needs_background": "light"
          }
        }
      ]
    },
    {
      "cell_type": "markdown",
      "source": [
        "## Summary\n",
        "\n",
        "Overall working to create movie recommendations based on MovieLens was a fun project. I sometimes use MovieLens to rate movies so it would be interesting to input my ratings and see what recommendations this model would give me.\n",
        "\n",
        "In experimenting with embedding size, I learned that creating a shorter embedding vector may increase the quality of the movie recommendations after training. However, it can be more difficult to identify how well the model is doing when recommending movies that users have never seen. \n",
        "\n",
        "Evaluating the quality of recommendations is more difficult than evaluating other types of models because it is harder to look at the model's predictions on new data and tell if they are correct. In this way, recommendations are more of an art than a science. To evaluate new movie recommendations we would likely need to give these recommendations to a user and tweak the model based on user feedback."
      ],
      "metadata": {
        "id": "BO7MDrHJHOZA"
      }
    }
  ]
}